{
 "cells": [
  {
   "cell_type": "code",
   "execution_count": 1,
   "id": "a3735e37-0c8a-44f8-96da-b90705d78989",
   "metadata": {},
   "outputs": [],
   "source": [
    "import pandas as pd\n",
    "import numpy as np\n",
    "import matplotlib.pyplot as plt\n",
    "import seaborn as sns"
   ]
  },
  {
   "cell_type": "code",
   "execution_count": 2,
   "id": "07c82649-a469-47ad-b7c3-6ed6e8edcb57",
   "metadata": {},
   "outputs": [],
   "source": [
    "import warnings\n",
    "warnings.filterwarnings(\"ignore\")\n",
    "sns.set(style=\"whitegrid\")"
   ]
  },
  {
   "cell_type": "code",
   "execution_count": 3,
   "id": "75edb6c8-f083-47af-9938-12f1a5c7a6e1",
   "metadata": {},
   "outputs": [],
   "source": [
    "df=pd.read_csv(\"AIML Dataset.csv\")"
   ]
  },
  {
   "cell_type": "code",
   "execution_count": 4,
   "id": "bdeb5f50-1b88-4939-907a-b3df281ff6f3",
   "metadata": {},
   "outputs": [
    {
     "data": {
      "text/html": [
       "<div>\n",
       "<style scoped>\n",
       "    .dataframe tbody tr th:only-of-type {\n",
       "        vertical-align: middle;\n",
       "    }\n",
       "\n",
       "    .dataframe tbody tr th {\n",
       "        vertical-align: top;\n",
       "    }\n",
       "\n",
       "    .dataframe thead th {\n",
       "        text-align: right;\n",
       "    }\n",
       "</style>\n",
       "<table border=\"1\" class=\"dataframe\">\n",
       "  <thead>\n",
       "    <tr style=\"text-align: right;\">\n",
       "      <th></th>\n",
       "      <th>step</th>\n",
       "      <th>type</th>\n",
       "      <th>amount</th>\n",
       "      <th>nameOrig</th>\n",
       "      <th>oldbalanceOrg</th>\n",
       "      <th>newbalanceOrig</th>\n",
       "      <th>nameDest</th>\n",
       "      <th>oldbalanceDest</th>\n",
       "      <th>newbalanceDest</th>\n",
       "      <th>isFraud</th>\n",
       "      <th>isFlaggedFraud</th>\n",
       "    </tr>\n",
       "  </thead>\n",
       "  <tbody>\n",
       "    <tr>\n",
       "      <th>0</th>\n",
       "      <td>1</td>\n",
       "      <td>PAYMENT</td>\n",
       "      <td>9839.64</td>\n",
       "      <td>C1231006815</td>\n",
       "      <td>170136.0</td>\n",
       "      <td>160296.36</td>\n",
       "      <td>M1979787155</td>\n",
       "      <td>0.0</td>\n",
       "      <td>0.0</td>\n",
       "      <td>0</td>\n",
       "      <td>0</td>\n",
       "    </tr>\n",
       "    <tr>\n",
       "      <th>1</th>\n",
       "      <td>1</td>\n",
       "      <td>PAYMENT</td>\n",
       "      <td>1864.28</td>\n",
       "      <td>C1666544295</td>\n",
       "      <td>21249.0</td>\n",
       "      <td>19384.72</td>\n",
       "      <td>M2044282225</td>\n",
       "      <td>0.0</td>\n",
       "      <td>0.0</td>\n",
       "      <td>0</td>\n",
       "      <td>0</td>\n",
       "    </tr>\n",
       "    <tr>\n",
       "      <th>2</th>\n",
       "      <td>1</td>\n",
       "      <td>TRANSFER</td>\n",
       "      <td>181.00</td>\n",
       "      <td>C1305486145</td>\n",
       "      <td>181.0</td>\n",
       "      <td>0.00</td>\n",
       "      <td>C553264065</td>\n",
       "      <td>0.0</td>\n",
       "      <td>0.0</td>\n",
       "      <td>1</td>\n",
       "      <td>0</td>\n",
       "    </tr>\n",
       "    <tr>\n",
       "      <th>3</th>\n",
       "      <td>1</td>\n",
       "      <td>CASH_OUT</td>\n",
       "      <td>181.00</td>\n",
       "      <td>C840083671</td>\n",
       "      <td>181.0</td>\n",
       "      <td>0.00</td>\n",
       "      <td>C38997010</td>\n",
       "      <td>21182.0</td>\n",
       "      <td>0.0</td>\n",
       "      <td>1</td>\n",
       "      <td>0</td>\n",
       "    </tr>\n",
       "    <tr>\n",
       "      <th>4</th>\n",
       "      <td>1</td>\n",
       "      <td>PAYMENT</td>\n",
       "      <td>11668.14</td>\n",
       "      <td>C2048537720</td>\n",
       "      <td>41554.0</td>\n",
       "      <td>29885.86</td>\n",
       "      <td>M1230701703</td>\n",
       "      <td>0.0</td>\n",
       "      <td>0.0</td>\n",
       "      <td>0</td>\n",
       "      <td>0</td>\n",
       "    </tr>\n",
       "  </tbody>\n",
       "</table>\n",
       "</div>"
      ],
      "text/plain": [
       "   step      type    amount     nameOrig  oldbalanceOrg  newbalanceOrig  \\\n",
       "0     1   PAYMENT   9839.64  C1231006815       170136.0       160296.36   \n",
       "1     1   PAYMENT   1864.28  C1666544295        21249.0        19384.72   \n",
       "2     1  TRANSFER    181.00  C1305486145          181.0            0.00   \n",
       "3     1  CASH_OUT    181.00   C840083671          181.0            0.00   \n",
       "4     1   PAYMENT  11668.14  C2048537720        41554.0        29885.86   \n",
       "\n",
       "      nameDest  oldbalanceDest  newbalanceDest  isFraud  isFlaggedFraud  \n",
       "0  M1979787155             0.0             0.0        0               0  \n",
       "1  M2044282225             0.0             0.0        0               0  \n",
       "2   C553264065             0.0             0.0        1               0  \n",
       "3    C38997010         21182.0             0.0        1               0  \n",
       "4  M1230701703             0.0             0.0        0               0  "
      ]
     },
     "execution_count": 4,
     "metadata": {},
     "output_type": "execute_result"
    }
   ],
   "source": [
    "df.head()"
   ]
  },
  {
   "cell_type": "code",
   "execution_count": 5,
   "id": "b8a50ff7-77c9-4f02-9d33-9c0a124f89e3",
   "metadata": {},
   "outputs": [
    {
     "name": "stdout",
     "output_type": "stream",
     "text": [
      "<class 'pandas.core.frame.DataFrame'>\n",
      "RangeIndex: 6362620 entries, 0 to 6362619\n",
      "Data columns (total 11 columns):\n",
      " #   Column          Dtype  \n",
      "---  ------          -----  \n",
      " 0   step            int64  \n",
      " 1   type            object \n",
      " 2   amount          float64\n",
      " 3   nameOrig        object \n",
      " 4   oldbalanceOrg   float64\n",
      " 5   newbalanceOrig  float64\n",
      " 6   nameDest        object \n",
      " 7   oldbalanceDest  float64\n",
      " 8   newbalanceDest  float64\n",
      " 9   isFraud         int64  \n",
      " 10  isFlaggedFraud  int64  \n",
      "dtypes: float64(5), int64(3), object(3)\n",
      "memory usage: 534.0+ MB\n"
     ]
    }
   ],
   "source": [
    "df.info()"
   ]
  },
  {
   "cell_type": "code",
   "execution_count": 6,
   "id": "b1ac4fd9-f4e4-4c6b-9ad1-6741ddb66df9",
   "metadata": {},
   "outputs": [
    {
     "data": {
      "text/plain": [
       "Index(['step', 'type', 'amount', 'nameOrig', 'oldbalanceOrg', 'newbalanceOrig',\n",
       "       'nameDest', 'oldbalanceDest', 'newbalanceDest', 'isFraud',\n",
       "       'isFlaggedFraud'],\n",
       "      dtype='object')"
      ]
     },
     "execution_count": 6,
     "metadata": {},
     "output_type": "execute_result"
    }
   ],
   "source": [
    "df.columns"
   ]
  },
  {
   "cell_type": "code",
   "execution_count": 7,
   "id": "10fb5880-4d3b-4e5d-ae06-8529dc3afd37",
   "metadata": {},
   "outputs": [
    {
     "data": {
      "text/plain": [
       "isFraud\n",
       "0    6354407\n",
       "1       8213\n",
       "Name: count, dtype: int64"
      ]
     },
     "execution_count": 7,
     "metadata": {},
     "output_type": "execute_result"
    }
   ],
   "source": [
    "df[\"isFraud\"].value_counts()"
   ]
  },
  {
   "cell_type": "code",
   "execution_count": 8,
   "id": "39f98201-7817-4eaa-b701-a4cd06f2d1b0",
   "metadata": {},
   "outputs": [
    {
     "data": {
      "text/plain": [
       "isFlaggedFraud\n",
       "0    6362604\n",
       "1         16\n",
       "Name: count, dtype: int64"
      ]
     },
     "execution_count": 8,
     "metadata": {},
     "output_type": "execute_result"
    }
   ],
   "source": [
    "df[\"isFlaggedFraud\"].value_counts()"
   ]
  },
  {
   "cell_type": "code",
   "execution_count": 9,
   "id": "cff6480c-36ed-40fb-8a13-8a66c727e972",
   "metadata": {},
   "outputs": [
    {
     "data": {
      "text/plain": [
       "step              0\n",
       "type              0\n",
       "amount            0\n",
       "nameOrig          0\n",
       "oldbalanceOrg     0\n",
       "newbalanceOrig    0\n",
       "nameDest          0\n",
       "oldbalanceDest    0\n",
       "newbalanceDest    0\n",
       "isFraud           0\n",
       "isFlaggedFraud    0\n",
       "dtype: int64"
      ]
     },
     "execution_count": 9,
     "metadata": {},
     "output_type": "execute_result"
    }
   ],
   "source": [
    "df.isnull().sum()"
   ]
  },
  {
   "cell_type": "code",
   "execution_count": 10,
   "id": "c589bb6f-4280-433d-96cc-1d08b7e8bcdf",
   "metadata": {},
   "outputs": [
    {
     "data": {
      "text/plain": [
       "(6362620, 11)"
      ]
     },
     "execution_count": 10,
     "metadata": {},
     "output_type": "execute_result"
    }
   ],
   "source": [
    "df.shape"
   ]
  },
  {
   "cell_type": "code",
   "execution_count": 11,
   "id": "a5640fab-6ded-4cbd-8572-630881e0d809",
   "metadata": {},
   "outputs": [
    {
     "data": {
      "text/plain": [
       "0.13"
      ]
     },
     "execution_count": 11,
     "metadata": {},
     "output_type": "execute_result"
    }
   ],
   "source": [
    "round((df[\"isFraud\"].value_counts()[1]/df.shape[0])*100,2)"
   ]
  },
  {
   "cell_type": "code",
   "execution_count": 12,
   "id": "6ba1868f-845b-4dd7-9897-1694c7945a12",
   "metadata": {},
   "outputs": [
    {
     "data": {
      "image/png": "[encoded data removed]",
      "text/plain": [
       "<Figure size 640x480 with 1 Axes>"
      ]
     },
     "metadata": {},
     "output_type": "display_data"
    }
   ],
   "source": [
    "df[\"type\"].value_counts().plot(kind=\"bar\",title=\"Transaction types\",color=\"skyblue\")\n",
    "plt.xlabel(\"Transaction Type\")\n",
    "plt.ylabel(\"Count\")\n",
    "plt.show()"
   ]
  },
  {
   "cell_type": "code",
   "execution_count": 14,
   "id": "1953e3d7-4d0c-4d46-8f20-2b44698a0c1c",
   "metadata": {},
   "outputs": [
    {
     "data": {
      "image/png": "[encoded data removed]",
      "text/plain": [
       "<Figure size 640x480 with 1 Axes>"
      ]
     },
     "metadata": {},
     "output_type": "display_data"
    }
   ],
   "source": [
    "fraud_by_type=df.groupby(\"type\")[\"isFraud\"].mean().sort_values(ascending=False)\n",
    "fraud_by_type.plot(kind=\"bar\",title=\"Fraud Rate by Type\",color=\"salmon\")\n",
    "plt.ylabel(\"Fraud Rate\")\n",
    "plt.show()"
   ]
  },
  {
   "cell_type": "code",
   "execution_count": 15,
   "id": "e05cbdf0-d869-4f49-a32e-e0f86eefa4cb",
   "metadata": {},
   "outputs": [
    {
     "data": {
      "text/plain": [
       "count     6362620\n",
       "mean       179861\n",
       "std        603858\n",
       "min             0\n",
       "25%         13389\n",
       "50%         74871\n",
       "75%        208721\n",
       "max      92445516\n",
       "Name: amount, dtype: int32"
      ]
     },
     "execution_count": 15,
     "metadata": {},
     "output_type": "execute_result"
    }
   ],
   "source": [
    "df[\"amount\"].describe().astype(int)"
   ]
  },
  {
   "cell_type": "code",
   "execution_count": 16,
   "id": "aae9aef2-9b02-4d2c-8a0c-e8a3d136c2ca",
   "metadata": {},
   "outputs": [
    {
     "data": {
      "image/png": "[encoded data removed]",
      "text/plain": [
       "<Figure size 640x480 with 1 Axes>"
      ]
     },
     "metadata": {},
     "output_type": "display_data"
    }
   ],
   "source": [
    "sns.histplot(np.log1p(df[\"amount\"]),bins=100,kde=True,color=\"green\")\n",
    "plt.title(\"Transaction Amount Distribution (log scale)\")\n",
    "plt.xlabel(\"Log(Amount + 1)\")\n",
    "plt.show()"
   ]
  },
  {
   "cell_type": "code",
   "execution_count": null,
   "id": "27641e72-5226-4f86-9874-dc2e0e2e3f57",
   "metadata": {},
   "outputs": [],
   "source": [
    "sns.boxplot(data=df[df[\"amount\"]<5000],x=\"isFraud\",y=\"amount\")\n",
    "plt.title(\"Amount vs isFraud (Filtered under 50k)\")\n",
    "plt.show()"
   ]
  },
  {
   "cell_type": "code",
   "execution_count": null,
   "id": "981e71ae-18d1-4b57-8f6e-15c386cf1c64",
   "metadata": {},
   "outputs": [],
   "source": [
    "df.columns"
   ]
  },
  {
   "cell_type": "code",
   "execution_count": null,
   "id": "60ffd491-8ba5-4bba-89ea-aee3b67d27f3",
   "metadata": {},
   "outputs": [],
   "source": [
    "df[\"balanceDiffOrig\"]=df[\"oldbalanceOrg\"]-df[\"newbalanceOrig\"]\n",
    "df[\"balanceDiffDest\"]=df[\"newbalanceDest\"]-df[\"oldbalanceDest\"]"
   ]
  },
  {
   "cell_type": "code",
   "execution_count": null,
   "id": "e3f77b2a-1c11-4e55-ba80-bed8cbaa87fd",
   "metadata": {},
   "outputs": [],
   "source": [
    "(df[\"balanceDiffDest\"]<0).sum()"
   ]
  },
  {
   "cell_type": "code",
   "execution_count": null,
   "id": "f669cbe9-dfdf-4167-9da9-f1651c3c9158",
   "metadata": {},
   "outputs": [],
   "source": [
    "frauds_per_step=df[df[\"isFraud\"]==1][\"step\"].value_counts().sort_index()\n",
    "plt.plot(frauds_per_step.index,frauds_per_step.values,label=\"Frauds per Step\")\n",
    "plt.xlabel(\"Step(Time)\")\n",
    "plt.ylabel(\"Number of Frauds\")\n",
    "plt.title(\"Frauds Over Time\")\n",
    "plt.grid(True)\n",
    "plt.show()"
   ]
  },
  {
   "cell_type": "code",
   "execution_count": null,
   "id": "046bc4f3-3af5-4516-9791-0eb2ff337d9a",
   "metadata": {},
   "outputs": [],
   "source": [
    "df.drop(columns=\"step\",inplace=True)"
   ]
  },
  {
   "cell_type": "code",
   "execution_count": null,
   "id": "5e766674-dd28-4821-bc94-c0b31bc33171",
   "metadata": {},
   "outputs": [],
   "source": [
    "df.head()"
   ]
  },
  {
   "cell_type": "code",
   "execution_count": null,
   "id": "d0aa7ede-7167-4666-8919-e62c2cb2aa6c",
   "metadata": {},
   "outputs": [],
   "source": [
    "top_senders=df[\"nameOrig\"].value_counts().head(10)"
   ]
  },
  {
   "cell_type": "code",
   "execution_count": null,
   "id": "498188e7-806e-4619-914b-552c5e335e90",
   "metadata": {},
   "outputs": [],
   "source": [
    "top_senders"
   ]
  },
  {
   "cell_type": "code",
   "execution_count": null,
   "id": "0b70972c-f7be-4eb2-8ccf-006ee74c6200",
   "metadata": {},
   "outputs": [],
   "source": [
    "top_receivers=df[\"nameDest\"].value_counts().head(10)\n",
    "top_receivers"
   ]
  },
  {
   "cell_type": "code",
   "execution_count": null,
   "id": "c1b4b0bd-ced7-4601-adce-f30856d9f7fc",
   "metadata": {},
   "outputs": [],
   "source": [
    "fraud_users=df[df[\"isFraud\"]==1][\"nameOrig\"].value_counts().head(10)\n",
    "fraud_users"
   ]
  },
  {
   "cell_type": "code",
   "execution_count": null,
   "id": "1d81f35f-a0a3-4549-b934-ef6b4e6284c1",
   "metadata": {},
   "outputs": [],
   "source": [
    "fraud_types=df[df[\"type\"].isin([\"TRANSFER\",\"CASH_OUT\"])]\n",
    "fraud_types[\"type\"].value_counts"
   ]
  },
  {
   "cell_type": "code",
   "execution_count": null,
   "id": "531a2ac1-9b51-4882-bb08-8cec4aff3992",
   "metadata": {},
   "outputs": [],
   "source": [
    "sns.countplot(data=fraud_types,x=\"type\",hue=\"isFraud\")\n",
    "plt.title(\"Fraud Distributio in Transfer and Cash_Out\")\n",
    "plt.show()"
   ]
  },
  {
   "cell_type": "code",
   "execution_count": null,
   "id": "882251c2-4685-4960-babf-4ccedde5fcd9",
   "metadata": {},
   "outputs": [],
   "source": [
    "corr=df[[\"amount\",\"oldbalanceOrg\",\"newbalanceOrig\",\"oldbalanceDest\",\"newbalanceDest\",\"isFraud\"]].corr()\n",
    "corr"
   ]
  },
  {
   "cell_type": "code",
   "execution_count": null,
   "id": "8f0c340d-10a9-4e78-8ed6-0bcfd0277bcf",
   "metadata": {},
   "outputs": [],
   "source": [
    "sns.heatmap(corr,annot=True,cmap=\"coolwarm\",fmt=\".2f\")\n",
    "plt.title(\"Correlation Matrix\")\n",
    "plt.show()"
   ]
  },
  {
   "cell_type": "code",
   "execution_count": null,
   "id": "a19b2087-44c0-42d0-a2cf-5f7dd643a980",
   "metadata": {},
   "outputs": [],
   "source": [
    "zero_after_transfer=df[\n",
    "    (df[\"oldbalanceOrg\"]>0) &\n",
    "    (df[\"newbalanceOrig\"]==0) &\n",
    "    (df[\"type\"].isin([\"TRANSFER\",\"CASH_OUT\"]))\n",
    "]"
   ]
  },
  {
   "cell_type": "code",
   "execution_count": null,
   "id": "f6550c6d-feb1-475c-8e02-e2028ab239cc",
   "metadata": {},
   "outputs": [],
   "source": [
    "len(zero_after_transfer)"
   ]
  },
  {
   "cell_type": "code",
   "execution_count": null,
   "id": "5359309a-ba12-441f-934f-c5fb0908fbcc",
   "metadata": {},
   "outputs": [],
   "source": [
    "zero_after_transfer.head()"
   ]
  },
  {
   "cell_type": "code",
   "execution_count": null,
   "id": "d3c9dd5e-56d6-46ca-8d6b-4a81387c458e",
   "metadata": {},
   "outputs": [],
   "source": [
    "df[\"isFraud\"].value_counts()"
   ]
  },
  {
   "cell_type": "code",
   "execution_count": null,
   "id": "00392e95-b1f1-4db0-90f5-e172858e4b56",
   "metadata": {},
   "outputs": [],
   "source": [
    "from sklearn.model_selection import train_test_split\n",
    "from sklearn.preprocessing import StandardScaler\n",
    "from sklearn.linear_model import LogisticRegression\n",
    "from sklearn.metrics import classification_report,confusion_matrix\n",
    "from sklearn.pipeline import Pipeline\n",
    "from sklearn.compose import ColumnTransformer\n",
    "from sklearn.preprocessing import OneHotEncoder"
   ]
  },
  {
   "cell_type": "code",
   "execution_count": null,
   "id": "4b34074e-c82b-4df7-82ce-8f9231fd2800",
   "metadata": {},
   "outputs": [],
   "source": [
    "df.head()"
   ]
  },
  {
   "cell_type": "code",
   "execution_count": null,
   "id": "a76c209f-9fd0-420b-adf3-2764d67e6e77",
   "metadata": {},
   "outputs": [],
   "source": [
    "df_model=df.drop([\"nameOrig\",\"nameDest\",\"isFlaggedFraud\"],axis=1)\n",
    "df_model.head()"
   ]
  },
  {
   "cell_type": "code",
   "execution_count": null,
   "id": "bd133701-d367-4b1b-b666-4fcc7a55b4b6",
   "metadata": {},
   "outputs": [],
   "source": [
    "categorical=[\"type\"]\n",
    "numeric=[\"amount\",\"oldbalanceOrg\",\"newbalanceOrig\",\"oldbalanceDest\",\"newbalanceDest\"]"
   ]
  },
  {
   "cell_type": "code",
   "execution_count": null,
   "id": "38ce311f-873c-4bda-840b-629dff9515c7",
   "metadata": {},
   "outputs": [],
   "source": [
    "y=df_model[\"isFraud\"]\n",
    "X=df_model.drop(\"isFraud\",axis=1)"
   ]
  },
  {
   "cell_type": "code",
   "execution_count": null,
   "id": "a9e2af32-4849-429e-bd67-e499a8b364a4",
   "metadata": {},
   "outputs": [],
   "source": [
    "X_train,X_test,y_train,y_test=train_test_split(X,y,test_size=0.3,stratify=y)"
   ]
  },
  {
   "cell_type": "code",
   "execution_count": null,
   "id": "2dee62b0-2041-49cf-8369-0f5df9da9f1d",
   "metadata": {},
   "outputs": [],
   "source": [
    "preprocessor=ColumnTransformer(\n",
    "    transformers=[\n",
    "        (\"num\",StandardScaler(),numeric),\n",
    "        (\"cat\",OneHotEncoder(drop=\"first\"),categorical)\n",
    "    ],\n",
    "    remainder=\"drop\"\n",
    "\n",
    ")"
   ]
  },
  {
   "cell_type": "code",
   "execution_count": null,
   "id": "68280351-81fd-477d-88cf-993e2a771ca1",
   "metadata": {},
   "outputs": [],
   "source": [
    "pipeline=Pipeline([\n",
    "    (\"prep\",preprocessor),\n",
    "    (\"clf\",LogisticRegression(class_weight=\"balanced\",max_iter=1000))\n",
    "])"
   ]
  },
  {
   "cell_type": "code",
   "execution_count": null,
   "id": "656f6b32-940a-49a7-ad9d-4fea3418d0fd",
   "metadata": {},
   "outputs": [],
   "source": [
    "pipeline.fit(X_train,y_train)"
   ]
  },
  {
   "cell_type": "code",
   "execution_count": null,
   "id": "e04d551c-9739-426d-b758-3345f0ebc2c9",
   "metadata": {},
   "outputs": [],
   "source": [
    "y_pred=pipeline.predict(X_test)"
   ]
  },
  {
   "cell_type": "code",
   "execution_count": null,
   "id": "8e991965-7aab-4ccb-9ca7-7094f2eb1fd4",
   "metadata": {},
   "outputs": [],
   "source": [
    "print(classification_report(y_test,y_pred))"
   ]
  },
  {
   "cell_type": "code",
   "execution_count": null,
   "id": "1d7c79f5-091e-4d34-bd33-cb160b75cf69",
   "metadata": {},
   "outputs": [],
   "source": [
    "confusion_matrix(y_test,y_pred)"
   ]
  },
  {
   "cell_type": "code",
   "execution_count": null,
   "id": "7a501a06-3962-4cf1-a519-eaf0ef045571",
   "metadata": {},
   "outputs": [],
   "source": [
    "pipeline.score(X_test,y_test)*100"
   ]
  },
  {
   "cell_type": "code",
   "execution_count": null,
   "id": "9625d6e7-fd5f-40ea-b4cd-93505939ce40",
   "metadata": {},
   "outputs": [],
   "source": [
    "import joblib \n",
    "joblib.dump(pipeline,\"fraud_detection_pipeline.pkl\")"
   ]
  },
  {
   "cell_type": "code",
   "execution_count": null,
   "id": "21d09e6e-e35f-4490-98fe-2d1caac84435",
   "metadata": {},
   "outputs": [],
   "source": [
    "import joblib \n",
    "joblib.dump(pipeline,\"fraud_detection_pipeline\")"
   ]
  },
  {
   "cell_type": "code",
   "execution_count": null,
   "id": "3a591606-86ca-416e-a050-aed0d90dad68",
   "metadata": {},
   "outputs": [],
   "source": [
    "model=joblib.load(\"fraud_detection_pipeline\")"
   ]
  },
  {
   "cell_type": "code",
   "execution_count": null,
   "id": "e366a45b-c81f-4cb0-b2c4-75f8785c0cbe",
   "metadata": {},
   "outputs": [],
   "source": [
    "input_data=pd.DataFrame([{\n",
    "    \"type\": \"PAYMENT\",\n",
    "    \"amount\" :9839.64,\n",
    "    \"oldbalanceOrg\":170136.0,\n",
    "    \"newbalanceOrig\":160296.36,\n",
    "    \"oldbalanceDest\": 0.0,\n",
    "    \"newbalanceDest\":0.0\n",
    "}])\n",
    "\n",
    "\t\t\t\t"
   ]
  },
  {
   "cell_type": "code",
   "execution_count": null,
   "id": "c70e210c-d33a-4df7-a1fc-80f38ca2c0ee",
   "metadata": {},
   "outputs": [],
   "source": [
    "prediction=model.predict(input_data)[0]"
   ]
  },
  {
   "cell_type": "code",
   "execution_count": null,
   "id": "603ca68d-bc5e-4316-b09d-073d785dc8ed",
   "metadata": {},
   "outputs": [],
   "source": [
    "if prediction ==1:\n",
    "    print(\"This transaction can be fraud\")\n",
    "\n",
    "else:\n",
    "    print(\"This transaction doesn't seem like fraud\")\n"
   ]
  },
  {
   "cell_type": "code",
   "execution_count": 17,
   "id": "257669a0-7748-41f1-9c09-48fbdbb81eef",
   "metadata": {},
   "outputs": [],
   "source": [
    "from tkinter import *\n",
    "import joblib\n",
    "import pandas as pd\n",
    "\n",
    "# Load the trained model\n",
    "model = joblib.load(\"fraud_detection_pipeline\")\n",
    "\n",
    "# Function to predict fraud\n",
    "def predict_fraud():\n",
    "    try:\n",
    "        # Collect input values\n",
    "        t_type = type_var.get()\n",
    "        amount = float(e1.get())\n",
    "        oldbalanceOrg = float(e2.get())\n",
    "        newbalanceOrig = float(e3.get())\n",
    "        oldbalanceDest = float(e4.get())\n",
    "        newbalanceDest = float(e5.get())\n",
    "\n",
    "        # Prepare input as a DataFrame\n",
    "        input_data = pd.DataFrame([{\n",
    "            \"type\": t_type,\n",
    "            \"amount\": amount,\n",
    "            \"oldbalanceOrg\": oldbalanceOrg,\n",
    "            \"newbalanceOrig\": newbalanceOrig,\n",
    "            \"oldbalanceDest\": oldbalanceDest,\n",
    "            \"newbalanceDest\": newbalanceDest\n",
    "        }])\n",
    "\n",
    "        # Predict\n",
    "        prediction = model.predict(input_data)[0]\n",
    "\n",
    "        # Display result\n",
    "        if prediction == 1:\n",
    "            result_label.config(text=\"⚠️ This transaction can be FRAUD!\", fg=\"red\")\n",
    "        else:\n",
    "            result_label.config(text=\"✅ This transaction seems SAFE.\", fg=\"green\")\n",
    "\n",
    "    except ValueError:\n",
    "        result_label.config(text=\"Please enter valid numeric values!\", fg=\"red\")\n",
    "\n",
    "\n",
    "# Function to clear all fields\n",
    "def clear_fields():\n",
    "    e1.delete(0, END)\n",
    "    e2.delete(0, END)\n",
    "    e3.delete(0, END)\n",
    "    e4.delete(0, END)\n",
    "    e5.delete(0, END)\n",
    "    type_var.set(\"PAYMENT\")\n",
    "    result_label.config(text=\"\")\n",
    "\n",
    "\n",
    "# Main window setup\n",
    "master = Tk()\n",
    "master.title(\"Transaction Fraud Detection System\")\n",
    "master.geometry(\"550x500\")\n",
    "master.configure(bg=\"#f4f4f4\")\n",
    "\n",
    "# Title\n",
    "Label(master, text=\"💳 Transaction Fraud Detection System\", bg=\"black\", fg=\"white\",\n",
    "      font=(\"Arial\", 16, \"bold\"), pady=10).grid(row=0, columnspan=2, pady=10)\n",
    "\n",
    "# Dropdown for transaction type\n",
    "Label(master, text=\"Transaction Type:\", bg=\"#f4f4f4\", font=(\"Arial\", 11, \"bold\")).grid(row=1, sticky=W, padx=10, pady=5)\n",
    "type_var = StringVar(master)\n",
    "type_var.set(\"PAYMENT\")  # default\n",
    "OptionMenu(master, type_var, \"PAYMENT\", \"TRANSFER\", \"CASH_OUT\", \"DEBIT\", \"CASH_IN\").grid(row=1, column=1, padx=10, pady=5)\n",
    "\n",
    "# Labels\n",
    "Label(master, text=\"Amount:\", bg=\"#f4f4f4\").grid(row=2, sticky=W, padx=10, pady=5)\n",
    "Label(master, text=\"Old Balance (Sender):\", bg=\"#f4f4f4\").grid(row=3, sticky=W, padx=10, pady=5)\n",
    "Label(master, text=\"New Balance (Sender):\", bg=\"#f4f4f4\").grid(row=4, sticky=W, padx=10, pady=5)\n",
    "Label(master, text=\"Old Balance (Receiver):\", bg=\"#f4f4f4\").grid(row=5, sticky=W, padx=10, pady=5)\n",
    "Label(master, text=\"New Balance (Receiver):\", bg=\"#f4f4f4\").grid(row=6, sticky=W, padx=10, pady=5)\n",
    "\n",
    "# Entries\n",
    "e1 = Entry(master)\n",
    "e2 = Entry(master)\n",
    "e3 = Entry(master)\n",
    "e4 = Entry(master)\n",
    "e5 = Entry(master)\n",
    "\n",
    "e1.grid(row=2, column=1, padx=10)\n",
    "e2.grid(row=3, column=1, padx=10)\n",
    "e3.grid(row=4, column=1, padx=10)\n",
    "e4.grid(row=5, column=1, padx=10)\n",
    "e5.grid(row=6, column=1, padx=10)\n",
    "\n",
    "# Buttons\n",
    "Button(master, text=\"Predict\", bg=\"green\", fg=\"white\", font=(\"Arial\", 12, \"bold\"),\n",
    "       command=predict_fraud).grid(row=8, column=1, pady=15)\n",
    "Button(master, text=\"Clear\", bg=\"gray\", fg=\"white\", font=(\"Arial\", 12, \"bold\"),\n",
    "       command=clear_fields).grid(row=8, column=0, pady=15)\n",
    "\n",
    "# Result Label\n",
    "result_label = Label(master, text=\"\", font=(\"Arial\", 13, \"bold\"), bg=\"#f4f4f4\")\n",
    "result_label.grid(row=9, column=1, pady=15)\n",
    "\n",
    "master.mainloop()\n"
   ]
  },
  {
   "cell_type": "code",
   "execution_count": null,
   "id": "be9066ea-b5bd-46ab-968e-d672c2813751",
   "metadata": {},
   "outputs": [],
   "source": []
  }
 ],
 "metadata": {
  "kernelspec": {
   "display_name": "Python [conda env:base] *",
   "language": "python",
   "name": "conda-base-py"
  },
  "language_info": {
   "codemirror_mode": {
    "name": "ipython",
    "version": 3
   },
   "file_extension": ".py",
   "mimetype": "text/x-python",
   "name": "python",
   "nbconvert_exporter": "python",
   "pygments_lexer": "ipython3",
   "version": "3.12.7"
  }
 },
 "nbformat": 4,
 "nbformat_minor": 5
}
